{
  "nbformat": 4,
  "nbformat_minor": 0,
  "metadata": {
    "kernelspec": {
      "display_name": "Python 3 (ipykernel)",
      "language": "python",
      "name": "python3"
    },
    "language_info": {
      "codemirror_mode": {
        "name": "ipython",
        "version": 3
      },
      "file_extension": ".py",
      "mimetype": "text/x-python",
      "name": "python",
      "nbconvert_exporter": "python",
      "pygments_lexer": "ipython3",
      "version": "3.9.7"
    },
    "colab": {
      "name": "lab04.ipynb",
      "provenance": [],
      "collapsed_sections": [],
      "include_colab_link": true
    }
  },
  "cells": [
    {
      "cell_type": "markdown",
      "metadata": {
        "id": "view-in-github",
        "colab_type": "text"
      },
      "source": [
        "<a href=\"https://colab.research.google.com/github/flaviovdf/musica/blob/main/notebooks/lab04.ipynb\" target=\"_parent\"><img src=\"https://colab.research.google.com/assets/colab-badge.svg\" alt=\"Open In Colab\"/></a>"
      ]
    },
    {
      "cell_type": "code",
      "source": [
        "# Descomente para rodar no colab\n",
        "# ! pip install git+https://github.com/flaviovdf/musica.git"
      ],
      "metadata": {
        "colab": {
          "base_uri": "https://localhost:8080/"
        },
        "id": "fBbbLhsj8F_M",
        "outputId": "9b0708b6-0237-4548-911e-a2351de2fc4a"
      },
      "execution_count": null,
      "outputs": [
        {
          "output_type": "stream",
          "name": "stdout",
          "text": [
            "Collecting git+https://github.com/flaviovdf/musica.git\n",
            "  Cloning https://github.com/flaviovdf/musica.git to /tmp/pip-req-build-653f2dwl\n",
            "  Running command git clone -q https://github.com/flaviovdf/musica.git /tmp/pip-req-build-653f2dwl\n",
            "Building wheels for collected packages: musica-dcc-ufmg\n",
            "  Building wheel for musica-dcc-ufmg (setup.py) ... \u001b[?25l\u001b[?25hdone\n",
            "  Created wheel for musica-dcc-ufmg: filename=musica_dcc_ufmg-0.1-py3-none-any.whl size=3357 sha256=7630060dc428b2414ec63c8d007ff13edf365edc47b56fe56ef5a0e55123cc51\n",
            "  Stored in directory: /tmp/pip-ephem-wheel-cache-9mo34non/wheels/94/cb/e0/72e4ee72153bf78a970722ac92a93e8a8f31c1853e32a3d1bc\n",
            "Successfully built musica-dcc-ufmg\n",
            "Installing collected packages: musica-dcc-ufmg\n",
            "Successfully installed musica-dcc-ufmg-0.1\n"
          ]
        }
      ]
    },
    {
      "cell_type": "markdown",
      "metadata": {
        "id": "iMA-fbpb-7dW"
      },
      "source": [
        "# Transformada de Fourier\n",
        "\n",
        "**Objetivos**\n",
        "1. Implementar a *fast fourier transform*\n",
        "\n",
        "**Resultado Esperado**\n",
        "1. Entender qual é a matriz base do processamento musical"
      ]
    },
    {
      "cell_type": "code",
      "metadata": {
        "id": "Sap-a5Qp-7dk"
      },
      "source": [
        "from μsica import μsf\n",
        "from μsica import μsp\n",
        "from numba import jit\n",
        "\n",
        "\n",
        "import librosa\n",
        "import librosa.display\n",
        "\n",
        "import IPython.display as ipd\n",
        "\n",
        "import matplotlib.pyplot as plt\n",
        "import matplotlib.ticker as ticker\n",
        "\n",
        "import numpy as np\n",
        "import pandas as pd"
      ],
      "execution_count": null,
      "outputs": []
    },
    {
      "cell_type": "code",
      "source": [
        "μsf.download('https://dcc.ufmg.br/~flaviovdf/mir/lab04/files.zip', 'files.zip',\n",
        "             False)\n",
        "μsf.extract('files.zip', '.')"
      ],
      "metadata": {
        "colab": {
          "base_uri": "https://localhost:8080/"
        },
        "id": "3lxYNCBZ8V4_",
        "outputId": "0c4ef172-a151-4bd0-b624-dbae45d496f2"
      },
      "execution_count": null,
      "outputs": [
        {
          "output_type": "stream",
          "name": "stdout",
          "text": [
            "files.zip: 1.39MB [00:03, 417kB/s]\n"
          ]
        }
      ]
    },
    {
      "cell_type": "code",
      "source": [
        "μsp.init_matplotlib()\n",
        "plt.ion()"
      ],
      "metadata": {
        "id": "pM0MI3UY8YtU"
      },
      "execution_count": null,
      "outputs": []
    },
    {
      "cell_type": "markdown",
      "metadata": {
        "id": "M5aSVvsC-7dr"
      },
      "source": [
        "## Introdução\n",
        "\n",
        "Como vimos em sala de aula, a Transformada de Fourier é o algoritmo base para realizar tarefas de Recuperação de Informação Musical. Durante as aulas, vimos três versões da transformada:\n",
        "\n",
        "1. A transformada contínua\n",
        "1. A transformada discreta\n",
        "1. A transformada com janelas (ou *short time fourier transform (STFT)*)\n",
        "\n",
        "Resumindo o assunto em texto, os sinais de áudio podem ser representados misturas complexas que consistem em uma infinidade de diferentes componentes de som. Tais componentes podem ser encontradas fazendo uso da transformada de Fourier. A mesma mapeia um sinal dependente do tempo para um espectro de frequências que revelam as frequências que das quais o áudio é composto.\n",
        "\n",
        "Em termos simples, um sinal e sua Transformada de Fourier são dois lados da mesma moeda. Por um lado, o sinal exibe as informações de tempo e esconde o informações sobre frequências. Por outro lado, a transformação de Fourier revela informações sobre frequências e oculta as informações de tempo. Para obter de volta as informações de tempo ocultas, Dennis Gabor apresentou no ano de 1946, a transformada de Fourier STFT. "
      ]
    },
    {
      "cell_type": "markdown",
      "metadata": {
        "id": "JOIxeBbP-7dv"
      },
      "source": [
        "## Transformada Discreta\n",
        "\n",
        "A transformada de Fourier é definida como:\n",
        "\n",
        "\\begin{align}\n",
        "X(k) = \\sum_{n=0}^{N-1} e^{-2 \\pi i n k / N} x(n) \\\\\n",
        "x(n) = \\frac{1}{N}\\sum_{k=0}^{N-1} e^{2 \\pi i n k / N} X(k)\n",
        "\\end{align}\n",
        "\n",
        "$X(k)$ é a importância de uma frequência no índice $k$. $x(n)$ é o valor do sinal na posição $n$. Como vimos em sala de aula, a mesma pode ser escrita de forma matricial. Para tal, precisamos definir os vetores: $\\mathbf{X}[k] = X(k)$ e $\\mathbf{x}[n] = x(n)$. Após isto, podemos definir a matriz:\n",
        "\n",
        "\\begin{align}\n",
        "{\\displaystyle \\text{DFT}_N ={\\begin{pmatrix}1& 1&\\cdots &1\\\\1&\\omega^{11}&\\cdots &\\omega^{2(N-1)}\\\\\\vdots &\\vdots &\\ddots &\\vdots \\\\1&\\omega^{(N-1)1}&\\cdots &\\omega^{(N-1)(N-1)}\\end{pmatrix}}} \n",
        "\\end{align}\n",
        "\n",
        "Onde, \n",
        "\n",
        "\\begin{align}\n",
        "\\omega^{kn} = (e^{-2 \\pi i / N})^{kn} \\\\\n",
        "\\omega^{kn} = e^{-2 \\pi kni / N}\n",
        "\\end{align}\n",
        "\n",
        "Daqui, a transformada é simplesmente o produto: $\\mathbf{X} = \\text{DFT}_N \\cdot \\mathbf{x}$. Com, $\\mathbf{X}[k] = X(k)$ e $\\mathbf{x}[n] = x(n)$.\n",
        "\n",
        "Sua primeira tarefa é implementar uma função Python que retorna a matriz $\\text{DFT}_N$. Lembre-se que definimos $k \\in [0, N)$ e $n \\in [0, N)$. Tanto os coeficientes quanto o número de posições no sinal é o mesmo.\n",
        "\n",
        "Observe como a função tem uma chamada `@jit` no começo. Tal chamada deixa o código mais rápido a ajuda os alunos que desejam gerar a matriz com laços. Dentro de funções dessa forma, a biblioteca *numba* compila o código para *C*. Então, você é limitado a usar comandos python, tipos simples como listas e vetores/matrizes numpy dentro da função."
      ]
    },
    {
      "cell_type": "code",
      "metadata": {
        "id": "dUpyhqw7-7dy"
      },
      "source": [
        "@jit(nopython=True)\n",
        "def generate_matrix_dft(N):\n",
        "    return M"
      ],
      "execution_count": null,
      "outputs": []
    },
    {
      "cell_type": "markdown",
      "metadata": {
        "id": "ToyupiOP-7d0"
      },
      "source": [
        "O código abaixo vai plotar os coeficientes reais e imaginários da sua matriz. Observe como existe uma redundância. Aproximadamente uma metade de cada matriz (os blocos na digonais) são iguais. Isto vale tanto para a diagonal principal como a secundária. Tal matriz serve como evidência de que computamos mais coeficientes do que precisamos, algo que foi dito em sala de aula, na prática, apenas K/2 coeficientes seriam necessários. \n",
        "\n",
        "O código abaixo deve gerar uma saída como:\n",
        "\n",
        "![](https://dcc.ufmg.br/~flaviovdf/mir/lab04/imgs/saida1.png)"
      ]
    },
    {
      "cell_type": "code",
      "metadata": {
        "id": "uQZB7tHq-7d3"
      },
      "source": [
        "dft_mat = generate_matrix_dft(32)\n",
        "\n",
        "plt.figure(figsize=(12, 4))\n",
        "\n",
        "plt.subplot(1, 2, 1)\n",
        "plt.title('$\\mathrm{Re}(\\mathrm{DFT}_N)$')\n",
        "plt.imshow(np.real(dft_mat), origin='lower', cmap='seismic', aspect='equal')\n",
        "plt.xlabel('Time index $n$')\n",
        "plt.ylabel('Frequency index $k$')\n",
        "plt.colorbar()\n",
        "\n",
        "plt.subplot(1, 2, 2)\n",
        "plt.title('$\\mathrm{Im}(\\mathrm{DFT}_N)$')\n",
        "plt.imshow(np.imag(dft_mat), origin='lower', cmap='seismic', aspect='equal')\n",
        "plt.xlabel('Time index $n$')\n",
        "plt.ylabel('Frequency index $k$')\n",
        "plt.colorbar()\n",
        "plt.tight_layout()"
      ],
      "execution_count": null,
      "outputs": []
    },
    {
      "cell_type": "markdown",
      "metadata": {
        "id": "ksxBAXNt-7d5"
      },
      "source": [
        "Agora escreva uma função para realizar a transformada:"
      ]
    },
    {
      "cell_type": "code",
      "metadata": {
        "id": "leIxueeY-7d8"
      },
      "source": [
        "@jit(nopython=True)\n",
        "def dft(x):\n",
        "    return X"
      ],
      "execution_count": null,
      "outputs": []
    },
    {
      "cell_type": "code",
      "metadata": {
        "id": "i2OdMWEN-7eA"
      },
      "source": [
        "X = dft(x)"
      ],
      "execution_count": null,
      "outputs": []
    },
    {
      "cell_type": "markdown",
      "metadata": {
        "id": "8GxzV4x6-7eC"
      },
      "source": [
        "Abaixo fazemos uso da sua função. O código abaixo deve gerar uma saída como:\n",
        "\n",
        "![](https://dcc.ufmg.br/~flaviovdf/mir/lab04/imgs/saida2.png)"
      ]
    },
    {
      "cell_type": "code",
      "metadata": {
        "id": "V9CF-bOx-7eF"
      },
      "source": [
        "N = 128\n",
        "n = np.arange(N)\n",
        "k = 10\n",
        "x = np.cos(2 * np.pi * (k * n / N) + 2 * (np.random.rand(N) - 0.5)) \n",
        "\n",
        "plt.figure(figsize=(10, 3))\n",
        "\n",
        "plt.subplot(1, 2, 1)\n",
        "plt.title('$x$')\n",
        "plt.plot(x)\n",
        "plt.xlabel('Time (index $n$)')\n",
        "\n",
        "plt.subplot(1, 2, 2)\n",
        "plt.title('$|X|$')\n",
        "plt.plot(np.abs(X))\n",
        "plt.xlabel('Frequency (index $k$)')\n",
        "plt.tight_layout()"
      ],
      "execution_count": null,
      "outputs": []
    },
    {
      "cell_type": "markdown",
      "metadata": {
        "id": "H1BjEnU1-7eH"
      },
      "source": [
        "A seguir, discutimos a famosa transformada rápida de Fourier (Fast Fourier Transform - FFT). O algoritmo FFT foi originalmente descoberto por Gauss em volta de 1805. No ano de 1965, o mesmo foi então redescoberto por Cooley e Tukey em 1965. O algoritmo FFT é baseado na observação de que a aplicação de uma DFT de tamanho par $ N = 2M $ pode ser expressa em termos de aplicação de duas DFTs com metade do tamanho $ M $. O algoritmo explora o fato de que existem relações algébricas entre as entradas $\\omega^{kn} = \\mathrm{exp}(-2 \\pi i / N)^{kn}$ de matrizes DFT.\n",
        "\n",
        "No algoritmo FFT, calcula-se o DFT dos elementos pares e ímpares de $x(n)$\n",
        "\n",
        "\\begin{align}\n",
        "(A(0), \\dots, A (N / 2-1)) & = \\mathrm{DFT}_{N / 2} \\cdot (x (0), x (2), x (4), \\cdots, x (N-2)) \\\\\n",
        "(B(0), \\dots, B (N / 2-1)) & = \\mathrm{DFT}_{N / 2} \\cdot (x (1), x (3), x (5), \\cdots, x (N-1))\n",
        "\\end{align}\n",
        "\n",
        "Com esses dois DFTs de tamanho $N/2$, pode-se calcular o DFT completo de tamanho $N$ por meio de:\n",
        "\n",
        "\\begin{eqnarray}\n",
        "C(k) & = & \\sigma^k \\cdot B(k) \\\\\n",
        "X(k) & = & A(k) + C(k) \\\\\n",
        "X(N / 2 + k) & = & A(k) - C(k) \\\\\n",
        "\\end{eqnarray}\n",
        "\n",
        "para $ k \\in [0: N / 2 - 1] $. Os números $\\sigma^k$ também são chamados de *fatores de torção*. Se $N$ é uma potência de dois, esta ideia pode ser aplicada recusivamente até que se alcance o cálculo de $ \\mathrm {DFT}_{1} $ (o caso $ N = 1 $), que é simplesmente multiplicação por um ( ou seja, apenas retornando o sinal de comprimento $ N = 1 $).\n",
        "\n",
        "\n",
        "Por fim implemente o algoritmo FFT e plote o mesmo resultado do caso anterior. Os comandos python abaixo separam os pares dos ímpares!\n",
        "\n",
        "```python\n",
        "x = np.array([0, 1, 2, 3, 4, 5])\n",
        "x_par = x[::2]\n",
        "x_impar = x[1::2]\n",
        "```"
      ]
    },
    {
      "cell_type": "code",
      "metadata": {
        "id": "-GDxozh5-7eI"
      },
      "source": [
        "x = np.array([0, 1, 2, 3, 4, 5])\n",
        "x_par = x[::2]\n",
        "x_impar = x[1::2]\n",
        "\n",
        "print(x_par)\n",
        "print(x_impar)"
      ],
      "execution_count": null,
      "outputs": []
    },
    {
      "cell_type": "code",
      "metadata": {
        "id": "HP2zfcq3-7eJ"
      },
      "source": [
        "@jit(nopython=True)\n",
        "def fft(x):\n",
        "    return X"
      ],
      "execution_count": null,
      "outputs": []
    },
    {
      "cell_type": "markdown",
      "metadata": {
        "id": "zwZPsyRN-7eK"
      },
      "source": [
        "Compare o tempo de execução dos dois com a chamada abaixo:"
      ]
    },
    {
      "cell_type": "code",
      "metadata": {
        "colab": {
          "base_uri": "https://localhost:8080/",
          "height": 236
        },
        "id": "HO6FXHFQ-7eL",
        "outputId": "46f9e2c2-f6e6-46e0-ef16-289b27123174"
      },
      "source": [
        "import timeit\n",
        "\n",
        "Ns = [2 ** n for n in range(5, 11)]\n",
        "times_dft = []\n",
        "times_fft = []\n",
        "execuctions = 10\n",
        "\n",
        "for N in Ns:\n",
        "    n = np.arange(N)\n",
        "    x = np.sin(2 * np.pi * 5 * n / N )\n",
        "    \n",
        "    time_dft = timeit.timeit(lambda: dft(x), number=execuctions) / execuctions\n",
        "    time_fft = timeit.timeit(lambda: fft(x), number=execuctions) / execuctions\n",
        "    times_dft.append(time_dft)\n",
        "    times_fft.append(time_fft)\n",
        "    \n",
        "plt.figure(figsize=(10, 4))\n",
        "    \n",
        "plt.plot(Ns, times_dft, '-xk', label='DFT')\n",
        "plt.plot(Ns, times_fft, '-xr', label='FFT')\n",
        "plt.xticks(Ns)\n",
        "plt.legend()\n",
        "plt.grid()\n",
        "plt.xlabel('$N$')\n",
        "plt.ylabel('Tempo de execução (seconds)');"
      ],
      "execution_count": null,
      "outputs": [
        {
          "output_type": "error",
          "ename": "NameError",
          "evalue": "ignored",
          "traceback": [
            "\u001b[0;31m---------------------------------------------------------------------------\u001b[0m",
            "\u001b[0;31mNameError\u001b[0m                                 Traceback (most recent call last)",
            "\u001b[0;32m<ipython-input-2-d007b281ed0d>\u001b[0m in \u001b[0;36m<module>\u001b[0;34m()\u001b[0m\n\u001b[1;32m      7\u001b[0m \u001b[0;34m\u001b[0m\u001b[0m\n\u001b[1;32m      8\u001b[0m \u001b[0;32mfor\u001b[0m \u001b[0mN\u001b[0m \u001b[0;32min\u001b[0m \u001b[0mNs\u001b[0m\u001b[0;34m:\u001b[0m\u001b[0;34m\u001b[0m\u001b[0;34m\u001b[0m\u001b[0m\n\u001b[0;32m----> 9\u001b[0;31m     \u001b[0mn\u001b[0m \u001b[0;34m=\u001b[0m \u001b[0mnp\u001b[0m\u001b[0;34m.\u001b[0m\u001b[0marange\u001b[0m\u001b[0;34m(\u001b[0m\u001b[0mN\u001b[0m\u001b[0;34m)\u001b[0m\u001b[0;34m\u001b[0m\u001b[0;34m\u001b[0m\u001b[0m\n\u001b[0m\u001b[1;32m     10\u001b[0m     \u001b[0mx\u001b[0m \u001b[0;34m=\u001b[0m \u001b[0mnp\u001b[0m\u001b[0;34m.\u001b[0m\u001b[0msin\u001b[0m\u001b[0;34m(\u001b[0m\u001b[0;36m2\u001b[0m \u001b[0;34m*\u001b[0m \u001b[0mnp\u001b[0m\u001b[0;34m.\u001b[0m\u001b[0mpi\u001b[0m \u001b[0;34m*\u001b[0m \u001b[0;36m5\u001b[0m \u001b[0;34m*\u001b[0m \u001b[0mn\u001b[0m \u001b[0;34m/\u001b[0m \u001b[0mN\u001b[0m \u001b[0;34m)\u001b[0m\u001b[0;34m\u001b[0m\u001b[0;34m\u001b[0m\u001b[0m\n\u001b[1;32m     11\u001b[0m \u001b[0;34m\u001b[0m\u001b[0m\n",
            "\u001b[0;31mNameError\u001b[0m: name 'np' is not defined"
          ]
        }
      ]
    },
    {
      "cell_type": "markdown",
      "metadata": {
        "id": "Q3ZET7oB-7eP"
      },
      "source": [
        "## Sinal Real com FFT e STFT\n",
        "\n",
        "Agora sua tarefa será aplicar a transformada em um sinal real.\n",
        "\n",
        "![](https://dcc.ufmg.br/~flaviovdf/mir/lab04/imgs/song.png)\n",
        "\n",
        "O aúdio abaixo toca as notas do piano seguindo a escala cromática. A figura também mostra duas versões do espectograma. Sua resposta final deve parecer com a Fig (b)."
      ]
    },
    {
      "cell_type": "code",
      "metadata": {
        "colab": {
          "base_uri": "https://localhost:8080/",
          "height": 167
        },
        "id": "NJksmQhV-7eR",
        "outputId": "6248f8ca-636b-4e0d-994d-c49bf7943693"
      },
      "source": [
        "ipd.Audio(filename='./files/Scale_Chromatic_Piano.wav')"
      ],
      "execution_count": null,
      "outputs": [
        {
          "output_type": "error",
          "ename": "NameError",
          "evalue": "ignored",
          "traceback": [
            "\u001b[0;31m---------------------------------------------------------------------------\u001b[0m",
            "\u001b[0;31mNameError\u001b[0m                                 Traceback (most recent call last)",
            "\u001b[0;32m<ipython-input-3-c9ecf93eb760>\u001b[0m in \u001b[0;36m<module>\u001b[0;34m()\u001b[0m\n\u001b[0;32m----> 1\u001b[0;31m \u001b[0mipd\u001b[0m\u001b[0;34m.\u001b[0m\u001b[0mAudio\u001b[0m\u001b[0;34m(\u001b[0m\u001b[0mfilename\u001b[0m\u001b[0;34m=\u001b[0m\u001b[0;34m'./files/Scale_Chromatic_Piano.wav'\u001b[0m\u001b[0;34m)\u001b[0m\u001b[0;34m\u001b[0m\u001b[0;34m\u001b[0m\u001b[0m\n\u001b[0m",
            "\u001b[0;31mNameError\u001b[0m: name 'ipd' is not defined"
          ]
        }
      ]
    },
    {
      "cell_type": "markdown",
      "metadata": {
        "id": "ZVTdY09_-7eT"
      },
      "source": [
        "Aplique a transformada de Fourier rápida no mesmo. Para tal, você pode fazer uso do pacote já pronto em python:"
      ]
    },
    {
      "cell_type": "code",
      "metadata": {
        "id": "KVyBl5LB-7eV"
      },
      "source": [
        "from scipy.fft import fft"
      ],
      "execution_count": null,
      "outputs": []
    },
    {
      "cell_type": "code",
      "metadata": {
        "id": "kBw_8BzT-7eW"
      },
      "source": [
        "song, F_s = librosa.load('./files/Scale_Chromatic_Piano.wav')\n",
        "print(len(song))\n",
        "print(F_s)"
      ],
      "execution_count": null,
      "outputs": []
    },
    {
      "cell_type": "markdown",
      "metadata": {
        "id": "JwAiWM9W-7eX"
      },
      "source": [
        "### FFT\n",
        "\n",
        "O código abaixo carrega a música e indica sua taxa de frequência. Agora, sabendo dos dados abaixo, aplique a Transformada de Fourier usando seu código ou o scipy. Recomendo fazer uso do scipy por corretude! Após isto, responda.\n",
        "\n",
        "**Questão**: Quais são as três frequência mais importante no sinal? Você deve converter entre índice e frequência aqui. Veja a equação nos slides. Além do mais, você deve descartar metade da saída do código do FFT, é redundante!"
      ]
    },
    {
      "cell_type": "markdown",
      "metadata": {
        "id": "SWnYKnU_-7eY"
      },
      "source": [
        "> Resposta Aqui. Use Latex"
      ]
    },
    {
      "cell_type": "markdown",
      "metadata": {
        "id": "kWro7HFQ-7eZ"
      },
      "source": [
        "### STFT\n",
        "\n",
        "Agora vamos fazer uso do código de STFT já pronto em Python. Leia a documentação do mesmo, observe como o mesmo recebe dois argumentos importantes (abaixo os nomes e valores padrão):\n",
        "\n",
        "1. window='hann'\n",
        "1. nperseg=256\n",
        "\n",
        "O primeiro é o tipo de janela. O segundo é o número de elementos por janela."
      ]
    },
    {
      "cell_type": "code",
      "metadata": {
        "id": "3DA3tHxS-7ea"
      },
      "source": [
        "from scipy.signal import stft"
      ],
      "execution_count": null,
      "outputs": []
    },
    {
      "cell_type": "markdown",
      "metadata": {
        "id": "VSg1CoPh-7eb"
      },
      "source": [
        "Observe como no plot eu coloquei o np.log para deixar as importâncias mais claras!"
      ]
    },
    {
      "cell_type": "code",
      "metadata": {
        "id": "bddP3ISa-7ec"
      },
      "source": [
        "f, t, Zxx = stft(song, nperseg=500)\n",
        "\n",
        "plt.figure(figsize=(20, 10))\n",
        "\n",
        "plt.pcolormesh(t, f, np.log(np.abs(Zxx)), shading='gouraud')\n",
        "plt.title('STFT Magnitude')\n",
        "plt.ylabel('Frequency [Hz]')\n",
        "plt.xlabel('Time [sec]')\n",
        "plt.show()"
      ],
      "execution_count": null,
      "outputs": []
    },
    {
      "cell_type": "markdown",
      "metadata": {
        "id": "Zv4ocvWt-7ed"
      },
      "source": [
        "**Questão**: Para cada segundo da música, qual a frequência mais importante? Você pode fazer um código para responder esta questão."
      ]
    }
  ]
}